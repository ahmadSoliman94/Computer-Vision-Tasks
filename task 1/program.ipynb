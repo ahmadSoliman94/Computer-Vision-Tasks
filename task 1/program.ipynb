{
 "cells": [
  {
   "cell_type": "code",
   "execution_count": 1,
   "metadata": {},
   "outputs": [],
   "source": [
    "import cv2\n",
    "import numpy as np\n",
    "import matplotlib.pyplot as plt\n",
    "from datetime import datetime\n",
    "\n"
   ]
  },
  {
   "attachments": {},
   "cell_type": "markdown",
   "metadata": {},
   "source": [
    "### __Computer vision Task 1__\n",
    "\n",
    "Task: Interactive Image Processing with Mouse  Events and Time Display. \n",
    "\n",
    "Goal: Write a program that allows the user to interactively  perform various image processing operations on an image using  mouse events and keyboard shortcuts.\n",
    "<br /> \n",
    "The program should also  display the current time on the frame. \n",
    "<br />\n",
    "The program should  perform the following tasks:"
   ]
  },
  {
   "cell_type": "code",
   "execution_count": 2,
   "metadata": {},
   "outputs": [],
   "source": [
    "import cv2\n",
    "import numpy as np\n",
    "from datetime import datetime\n",
    "\n",
    "class ImageProcessor:\n",
    "    def __init__(self, image_path):\n",
    "\n",
    "        self.image_path = image_path # the path to the image\n",
    "        self.image = None # the image to be processed\n",
    "        self.history = [] # list of tuples (operation, image)\n",
    "        self.original_image = None # the original image\n",
    "\n",
    "    def read_image(self):\n",
    "        ''' Read the image from the path '''\n",
    "        self.image = cv2.imread(self.image_path)\n",
    "        self.previous_image = self.image.copy()\n",
    "        self.original_image = self.image.copy() \n",
    "\n",
    "    def mouse_callback(self, event, x, y, flags=None, param=None):\n",
    "        ''' Define a mouse callback function that responds to mouse events. '''\n",
    "\n",
    "        # if the left button was clicked, draw a rectangle\n",
    "        if event == cv2.EVENT_LBUTTONDOWN:\n",
    "            cv2.rectangle(self.image, (x, y), (x + 100, y + 100), (0, 255, 0), 3)\n",
    "\n",
    "        # if the right button was clicked, draw a circle\n",
    "        if event == cv2.EVENT_RBUTTONDOWN:\n",
    "            cv2.circle(self.image, (x, y), 50, (0, 0, 255), 3)\n",
    "\n",
    "        # if the middle button was clicked, perform a translation\n",
    "        if event == cv2.EVENT_MBUTTONDOWN:\n",
    "            rows, cols = self.image.shape[:2]\n",
    "            M = np.float32([[1, 0, 100], [0, 1, 50]])\n",
    "            self.image = cv2.warpAffine(self.image, M, (cols, rows))\n",
    "\n",
    "    def display_image(self):\n",
    "        ''' Display the image '''\n",
    "        cv2.namedWindow(winname='my_image')\n",
    "\n",
    "        # connect the mouse callback function to the window\n",
    "        cv2.setMouseCallback('my_image', self.mouse_callback)\n",
    "        while True:\n",
    "            cv2.imshow('my_image', self.image)\n",
    "            key = cv2.waitKey(1) & 0xFF\n",
    "            if key == ord('q'):\n",
    "                break\n",
    "        cv2.destroyAllWindows()\n",
    "\n",
    "    def display_current_time(self):\n",
    "        ''' Display the current time on the image '''\n",
    "        current_time = datetime.now().strftime(\"%d/%m/%Y %H:%M:%S\")\n",
    "        cv2.putText(self.image, str(current_time), (10, 50), cv2.FONT_HERSHEY_SIMPLEX, 1, (0, 0, 255), 2)\n",
    "        while True:\n",
    "            cv2.imshow('my_image', self.image)\n",
    "            key = cv2.waitKey(1) & 0xFF\n",
    "            if key == ord('q'):\n",
    "                break\n",
    "        cv2.destroyAllWindows()\n",
    "\n",
    "    def image_processing(self):\n",
    "        ''' Perform image processing on the image '''\n",
    "        while True:\n",
    "            cv2.imshow('my_image', self.image)\n",
    "            key = cv2.waitKey(1) & 0xFF\n",
    "\n",
    "            # convert to grayscale\n",
    "            if key == ord('g'):\n",
    "                self.image = cv2.cvtColor(self.image, cv2.COLOR_BGR2GRAY)  # convert to grayscale\n",
    "                self.history.append(self.image.copy())  # add the image to the history\n",
    "\n",
    "            # convert to rgb\n",
    "            elif key == ord('r'):\n",
    "                self.image = self.original_image  # restore the original image\n",
    "\n",
    "            # save the image\n",
    "            elif key == ord('s'):\n",
    "                cv2.imwrite('new_image.jpg', self.image)\n",
    "                print('Image saved successfully!')\n",
    "\n",
    "            # crop the image\n",
    "            elif key == ord('c'):\n",
    "                self.image = self.image[556:1160, 10:810]  # [width, height]\n",
    "                self.history.append(self.image.copy())\n",
    "\n",
    "            # undo the last operation\n",
    "            elif key == ord('z'):\n",
    "                if len(self.history) > 0:\n",
    "                    self.image = self.history.pop()\n",
    "                else:\n",
    "                    print('No more operations to undo!')\n",
    "\n",
    "\n",
    "            elif key == ord('h'):\n",
    "                help_message = \"Operations:\\n\" \\\n",
    "                            \"g - Convert image to grayscale\\n\" \\\n",
    "                            \"r - Convert image to RGB\\n\" \\\n",
    "                            \"s - Save the image\\n\" \\\n",
    "                            \"c - Crop the image\\n\" \\\n",
    "                            \"z - Undo the last operation\\n\" \\\n",
    "                            \"h - Display this help message\"\n",
    "                print(help_message)\n",
    "            \n",
    "            # exit\n",
    "            if key == ord('q'):\n",
    "                break\n",
    "\n",
    "        \n",
    "        cv2.destroyAllWindows()\n",
    "\n",
    "\n",
    "    def implement_bind_trackbar(self):\n",
    "        ''' Implement a bind trackbar '''\n",
    "\n",
    "        def update_image(x):\n",
    "            ''' Update the image based on the trackbar positions '''\n",
    "            brightness = cv2.getTrackbarPos('Brightness', 'image')\n",
    "            contrast = cv2.getTrackbarPos('Contrast', 'image')\n",
    "            saturation = cv2.getTrackbarPos('Saturation', 'image')\n",
    "            switch = cv2.getTrackbarPos('Switch', 'image')\n",
    "\n",
    "            # Apply adjustments only if the switch is on (1)\n",
    "            if switch == 1:\n",
    "                # Apply brightness and contrast adjustments\n",
    "                adjusted_image = cv2.convertScaleAbs(self.original_image, alpha=contrast/100, beta=brightness)\n",
    "\n",
    "                # Apply saturation adjustment\n",
    "                hsv_image = cv2.cvtColor(adjusted_image, cv2.COLOR_BGR2HSV)\n",
    "                hsv_image[:, :, 1] = np.clip(hsv_image[:, :, 1] + saturation, 0, 255)\n",
    "                adjusted_image = cv2.cvtColor(hsv_image, cv2.COLOR_HSV2BGR)\n",
    "            else:\n",
    "                adjusted_image = self.original_image.copy()\n",
    "\n",
    "            cv2.imshow('image', adjusted_image)\n",
    "\n",
    "        # create a window and trackbars\n",
    "        cv2.namedWindow('image')\n",
    "        cv2.createTrackbar('Brightness', 'image', 0, 100, update_image)\n",
    "        cv2.createTrackbar('Contrast', 'image', 0, 100, update_image)\n",
    "        cv2.createTrackbar('Saturation', 'image', 0, 100, update_image)\n",
    "        cv2.createTrackbar('Switch', 'image', 0, 1, update_image)\n",
    "\n",
    "        # update the image initially\n",
    "        update_image(0)\n",
    "\n",
    "        while True:\n",
    "            key = cv2.waitKey(1) & 0xFF\n",
    "            if key == ord('q'):\n",
    "                break\n",
    "\n",
    "        cv2.destroyAllWindows()\n",
    "\n",
    "\n",
    "\n",
    "    \n"
   ]
  },
  {
   "cell_type": "code",
   "execution_count": 3,
   "metadata": {},
   "outputs": [],
   "source": [
    "processor = ImageProcessor('./images/image.jpg') # Initialize the class with the image path\n"
   ]
  },
  {
   "attachments": {},
   "cell_type": "markdown",
   "metadata": {},
   "source": [
    "1. Load an image from disk using the cv2.imread() function."
   ]
  },
  {
   "cell_type": "code",
   "execution_count": 4,
   "metadata": {},
   "outputs": [],
   "source": [
    "processor.read_image()"
   ]
  },
  {
   "attachments": {},
   "cell_type": "markdown",
   "metadata": {},
   "source": [
    "2. Define a mouse callback function that responds to mouse \n",
    "events. The function should perform the following tasks \n",
    "based on the type of mouse event:\n",
    "    - If the left mouse button is pressed and dragged, draw a rectangle on the image using the cv2.rectangle() function.\n",
    "    - If the right mouse button is pressed and dragged, draw a circle on the image using the cv2.circle() function.\n",
    "    - If the middle mouse button is pressed and dragged, perform image translation on the image using  the cv2.warpAffine() function.\n",
    "\n",
    "<br />\n",
    "\n",
    "3. Display the image with the mouse callback function using the cv2.imshow() function.\n"
   ]
  },
  {
   "cell_type": "code",
   "execution_count": 6,
   "metadata": {},
   "outputs": [],
   "source": [
    "processor.display_image()\n"
   ]
  },
  {
   "attachments": {},
   "cell_type": "markdown",
   "metadata": {},
   "source": [
    "<img src=\"./images/task_2_3.png\" alt=\"task\" width=\"400\">\n"
   ]
  },
  {
   "attachments": {},
   "cell_type": "markdown",
   "metadata": {},
   "source": [
    "4. Define a function to display the current time on the frame. \n",
    "You can use Python's built-in datetime module to get the \n",
    "current time:\n",
    "5. Add the current time to the frame using \n",
    "the cv2.putText() function.\n",
    "6. Wait for a key event using the cv2.waitKey() function.\n"
   ]
  },
  {
   "cell_type": "code",
   "execution_count": 7,
   "metadata": {},
   "outputs": [],
   "source": [
    "processor.display_current_time()"
   ]
  },
  {
   "attachments": {},
   "cell_type": "markdown",
   "metadata": {},
   "source": [
    "<img src=\"./images/task_4_5_6.png\" alt=\"task\" width=\"400\">\n"
   ]
  },
  {
   "attachments": {},
   "cell_type": "markdown",
   "metadata": {},
   "source": [
    "7. If the 'g' key is pressed, convert the image to grayscale using the cv2.cvtColor() function.\n",
    "8. If the 'r' key is pressed, reset the image to its original state.\n",
    "9. If the 's' key is pressed, save the image to disk using  the cv2.imwrite() function.\n",
    "10. If the 'c' key is pressed, crop the region of interest  defined by the rectangle using array slicing.\n",
    "11. If the 'z' key is pressed, undo the previous operation.\n",
    "12. If the 'q' key is pressed, exit the program.\n",
    "13. If the 'h' key is pressed, display a help message.\n",
    "14. Implement a history of image modifications so that the \n",
    "user can undo previous operations."
   ]
  },
  {
   "cell_type": "code",
   "execution_count": 6,
   "metadata": {},
   "outputs": [
    {
     "name": "stdout",
     "output_type": "stream",
     "text": [
      "Operations:\n",
      "g - Convert image to grayscale\n",
      "r - Convert image to RGB\n",
      "s - Save the image\n",
      "c - Crop the image\n",
      "z - Undo the last operation\n",
      "h - Display this help message\n"
     ]
    }
   ],
   "source": [
    "processor.image_processing()"
   ]
  },
  {
   "attachments": {},
   "cell_type": "markdown",
   "metadata": {},
   "source": [
    "<img src=\"./images/procced_image.jpg\" alt=\"task\" width=\"400\">"
   ]
  },
  {
   "cell_type": "code",
   "execution_count": 7,
   "metadata": {},
   "outputs": [],
   "source": [
    "processor.implement_bind_trackbar()"
   ]
  },
  {
   "attachments": {},
   "cell_type": "markdown",
   "metadata": {},
   "source": [
    "<img src=\"./images/apply_b.png\" alt=\"task\" width=\"800\">"
   ]
  },
  {
   "cell_type": "code",
   "execution_count": null,
   "metadata": {},
   "outputs": [],
   "source": []
  }
 ],
 "metadata": {
  "kernelspec": {
   "display_name": "Python 3 (ipykernel)",
   "language": "python",
   "name": "python3"
  },
  "language_info": {
   "codemirror_mode": {
    "name": "ipython",
    "version": 3
   },
   "file_extension": ".py",
   "mimetype": "text/x-python",
   "name": "python",
   "nbconvert_exporter": "python",
   "pygments_lexer": "ipython3",
   "version": "3.10.11"
  }
 },
 "nbformat": 4,
 "nbformat_minor": 4
}
